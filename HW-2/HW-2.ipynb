{
 "cells": [
  {
   "cell_type": "code",
   "execution_count": 52,
   "metadata": {},
   "outputs": [],
   "source": [
    "import numpy as np\n",
    "import matplotlib.pyplot as plt\n",
    "from scipy.special import comb"
   ]
  },
  {
   "cell_type": "markdown",
   "metadata": {},
   "source": [
    "------------------------------------------------------------------------------------------------------------------\n",
    "$\\textbf{6}$. Let’s say your football team is playing a series of 5 games against your opponent. Whoever wins more games (out of 5) wins the title. Let us say, your team might is more skilled and has 75% chances of winning. So, there is a 25% chance of losing it. What is the probability of your team winning the series? Is it 75% or is it something else?"
   ]
  },
  {
   "cell_type": "markdown",
   "metadata": {},
   "source": [
    "#####  Answer:\n",
    "\n",
    "My team has to win 3, 4 or 5 games in order to win the series. The results of the game are independent of each other, so the probabilty my team winning the series could be modeled using a bionomial distribution where,\n",
    "\n",
    "the number of games, $n = 5$, \n",
    "\n",
    "the minimum number of wins required, $k=[3,4,5]$, \n",
    "\n",
    "the probability of winning a game, $p=0.75$,\n",
    "\n",
    "So, the probabiltiy of my team winning the series, \n",
    "\n",
    "$Pr(k | n,p) = Pr(k = 3 | n=5,p=0.75) + Pr(k = 4 | n=5,p=0.75) + Pr(k = 5 | n=5,p=0.75)$\n",
    "\n",
    "We know, $Pr(k | n,p) = {n \\choose k} p^k (1-p)^{n-k}$"
   ]
  },
  {
   "cell_type": "code",
   "execution_count": 55,
   "metadata": {},
   "outputs": [
    {
     "name": "stdout",
     "output_type": "stream",
     "text": [
      "The probabiltiy of my team winning the series: 0.896484375\n"
     ]
    }
   ],
   "source": [
    "n = 5\n",
    "K = [3,4,5]\n",
    "p=0.75\n",
    "Pr = []\n",
    "for i,k in enumerate(K):\n",
    "    Pr.append(comb(n, k) * p ** k * (1-p) ** (n-k))\n",
    "    \n",
    "print('The probabiltiy of my team winning the series: {}'.format(np.sum(Pr)))"
   ]
  },
  {
   "attachments": {
    "image.png": {
     "image/png": "[encoded data removed]"
    }
   },
   "cell_type": "markdown",
   "metadata": {},
   "source": [
    "------------------------------------------------------------------------------------------------------------------\n",
    "$\\textbf{10.}$ Suppose that the p.d.f. of a random variable X is: - \n",
    "![image.png](attachment:image.png)\n",
    "\n",
    "a) What is the value of constant c?\n",
    "\n",
    "b) Sketch the p.d.f. - Pr(X > 3/2) =? \n",
    "\n",
    "c) Suppose that the random variable X has a uniform distribution on interval [0, 1]. Random variable Y has a uniform distribution on the interval [4, 10]. X and Y are independent. \n",
    "\n",
    "d) Suppose a rectangle is to be constructed for which the lengths of two adjacent sides are X and Y. So, what is the expected value of the area of this rectangle? \n",
    "\n",
    "e) Suppose that X is a random variable. If E(X) = μ, Var(X) = σ^2 , then what is the value of E[X(X − 1)] =? "
   ]
  },
  {
   "cell_type": "markdown",
   "metadata": {},
   "source": [
    "#####  Answer:\n",
    "\n",
    "a) Since $f(x)$ is the p.d.f, $\\int f(x) = 1$. Also, $f(x) > 0$ only when $1 \\leq x \\leq 2$,\n",
    "\n",
    "So, $\\int_1 ^ 2 f(x) = 1$\n",
    "\n",
    "=> $\\int_1 ^ 2 cx^2 = 1 $\n",
    "\n",
    "=> $c[\\frac{x^3}{3}]_1^2 = 1$\n",
    "\n",
    "=> $c . \\frac{7}{3} = 1$\n",
    "\n",
    "=> $c = \\frac{3}{7}$"
   ]
  },
  {
   "cell_type": "markdown",
   "metadata": {},
   "source": [
    "b) p.d.f sketch for Pr(X > 3/2)"
   ]
  },
  {
   "cell_type": "code",
   "execution_count": 49,
   "metadata": {},
   "outputs": [
    {
     "data": {
      "image/png": "[encoded data removed]",
      "text/plain": [
       "<Figure size 432x288 with 1 Axes>"
      ]
     },
     "metadata": {
      "needs_background": "light"
     },
     "output_type": "display_data"
    }
   ],
   "source": [
    "X = np.arange(1, 2, 0.0001)\n",
    "\n",
    "pdf = (3/7) * X**2\n",
    "plt.plot(X, pdf)\n",
    "\n",
    "plt.fill_between(X[X > 1.5], pdf[X > 1.5], alpha=0.3, label='area for X > 3/2')\n",
    "\n",
    "plt.text(1.6, 0.65, 'Pr[X > 3/2]=0.66')\n",
    "\n",
    "plt.ylabel('pdf')\n",
    "plt.xlabel('X')\n",
    "plt.legend()\n",
    "plt.show()"
   ]
  },
  {
   "cell_type": "markdown",
   "metadata": {},
   "source": [
    "e) Let $f_x(X)$ be the p.d.f of $X$\n",
    "\n",
    "Then, $Var(X) = E[(X - E[X])^2] = \\int_{-\\infty}^{+\\infty} (X-\\mu)^2 f_x(X)dx$\n",
    "\n",
    "= $\\int_{-\\infty}^{+\\infty}(X^2 - 2 \\mu X + \\mu^2)f_x(X)dx$ \n",
    "\n",
    "= $\\int_{-\\infty}^{+\\infty} X^2f_x(X)dx - 2 \\mu \\int_{-\\infty}^{+\\infty} X f_x(X)dx + \\mu^2 \\int_{-\\infty}^{+\\infty} f_x(X)dx$\n",
    "\n",
    "Since, $E[X] = \\mu = \\int_{-\\infty}^{+\\infty} Xf_x(X)dx$ and $\\int_{-\\infty}^{+\\infty} f_x(X)dx = 1$,\n",
    "\n",
    "Then, $Var(X) = E[X^2] - 2 \\mu \\times \\mu + \\mu^2$\n",
    "\n",
    "=> $\\sigma^2 = E[X^2] - \\mu^2$   (Given $Var(X) = \\sigma^2$)\n",
    "\n",
    "=> $E[X^2] = \\sigma^2 + \\mu^2$\n",
    "\n",
    "Now, $E[X(X-1)] = E[X^2 - X] = E[X^2] - E[X]$\n",
    "\n",
    "= $\\sigma^2 + \\mu^2 - \\mu$ (Ans)"
   ]
  },
  {
   "cell_type": "code",
   "execution_count": null,
   "metadata": {},
   "outputs": [],
   "source": []
  }
 ],
 "metadata": {
  "kernelspec": {
   "display_name": "Python 3",
   "language": "python",
   "name": "python3"
  },
  "language_info": {
   "codemirror_mode": {
    "name": "ipython",
    "version": 3
   },
   "file_extension": ".py",
   "mimetype": "text/x-python",
   "name": "python",
   "nbconvert_exporter": "python",
   "pygments_lexer": "ipython3",
   "version": "3.7.4"
  }
 },
 "nbformat": 4,
 "nbformat_minor": 2
}
